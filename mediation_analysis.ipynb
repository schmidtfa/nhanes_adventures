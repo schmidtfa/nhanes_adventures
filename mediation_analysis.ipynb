{
 "cells": [
  {
   "cell_type": "markdown",
   "metadata": {
    "isInteractiveWindowMessageCell": true
   },
   "source": [
    "Connected to .venv (Python 3.11.5)"
   ]
  },
  {
   "cell_type": "code",
   "execution_count": 1,
   "metadata": {},
   "outputs": [],
   "source": [
    "import pandas as pd\n",
    "import os.path as op\n",
    "import sys\n",
    "import numpy as np\n",
    "sys.path.append('./utils/')\n",
    "\n",
    "import pymc as pm\n",
    "import arviz as az\n",
    "from pymc import do, observe\n",
    "import matplotlib.pyplot as plt\n",
    "import seaborn as sns\n",
    "import scipy.stats as sp\n",
    "\n",
    "from nhanes_utils import pull_nhanes, merge_datasets"
   ]
  },
  {
   "cell_type": "code",
   "execution_count": 2,
   "metadata": {},
   "outputs": [],
   "source": [
    "#TODO: add check if data is already loaded\n",
    "download_data=False\n",
    "outdir = './data/nhanes_data'\n",
    "\n",
    "if download_data:\n",
    "    \n",
    "    year = 2015\n",
    "    sub_dirs = ['Demographics', 'Questionnaire', 'Examination',]\n",
    "\n",
    "    df_dems = pull_nhanes(year, outdir=outdir, sub_dirs=sub_dirs)"
   ]
  },
  {
   "cell_type": "code",
   "execution_count": 3,
   "metadata": {},
   "outputs": [
    {
     "name": "stdout",
     "output_type": "stream",
     "text": [
      "2001\n"
     ]
    },
    {
     "name": "stderr",
     "output_type": "stream",
     "text": [
      "<ipython-input-3-d2372c1e5743>:36: RuntimeWarning: Mean of empty slice\n",
      "  df['AUXU1KR'] = np.nanmean(replace_bads(df[['AUXU1K1R','AUXU1K2R']]), axis=1)\n",
      "<ipython-input-3-d2372c1e5743>:37: RuntimeWarning: Mean of empty slice\n",
      "  df['AUXU1KL'] = np.nanmean(df[['AUXU1K1L','AUXU1K2L']].replace(to_replace={444: np.nan,\n",
      "<ipython-input-3-d2372c1e5743>:48: RuntimeWarning: Mean of empty slice\n",
      "  df['pta'] = np.mean(([np.nanmean(df[right_list].replace(to_replace={444: np.nan,\n",
      "<ipython-input-3-d2372c1e5743>:51: RuntimeWarning: Mean of empty slice\n",
      "  np.nanmean(df[left_list].replace(to_replace={444: np.nan,\n",
      "<ipython-input-3-d2372c1e5743>:56: SettingWithCopyWarning: \n",
      "A value is trying to be set on a copy of a slice from a DataFrame.\n",
      "Try using .loc[row_indexer,col_indexer] = value instead\n",
      "\n",
      "See the caveats in the documentation: https://pandas.pydata.org/pandas-docs/stable/user_guide/indexing.html#returning-a-view-versus-a-copy\n",
      "  cur_df['tinnitus'] = cur_df[cur_col_list[2]].replace(to_replace={1: True,\n",
      "<ipython-input-3-d2372c1e5743>:60: SettingWithCopyWarning: \n",
      "A value is trying to be set on a copy of a slice from a DataFrame\n",
      "\n",
      "See the caveats in the documentation: https://pandas.pydata.org/pandas-docs/stable/user_guide/indexing.html#returning-a-view-versus-a-copy\n",
      "  cur_df.dropna(subset=['pta','tinnitus'], inplace=True)\n",
      "<ipython-input-3-d2372c1e5743>:61: SettingWithCopyWarning: \n",
      "A value is trying to be set on a copy of a slice from a DataFrame.\n",
      "Try using .loc[row_indexer,col_indexer] = value instead\n",
      "\n",
      "See the caveats in the documentation: https://pandas.pydata.org/pandas-docs/stable/user_guide/indexing.html#returning-a-view-versus-a-copy\n",
      "  cur_df['tinnitus'] = cur_df['tinnitus'] == True\n"
     ]
    },
    {
     "name": "stdout",
     "output_type": "stream",
     "text": [
      "2003\n"
     ]
    },
    {
     "name": "stderr",
     "output_type": "stream",
     "text": [
      "<ipython-input-3-d2372c1e5743>:36: RuntimeWarning: Mean of empty slice\n",
      "  df['AUXU1KR'] = np.nanmean(replace_bads(df[['AUXU1K1R','AUXU1K2R']]), axis=1)\n",
      "<ipython-input-3-d2372c1e5743>:37: RuntimeWarning: Mean of empty slice\n",
      "  df['AUXU1KL'] = np.nanmean(df[['AUXU1K1L','AUXU1K2L']].replace(to_replace={444: np.nan,\n",
      "<ipython-input-3-d2372c1e5743>:48: RuntimeWarning: Mean of empty slice\n",
      "  df['pta'] = np.mean(([np.nanmean(df[right_list].replace(to_replace={444: np.nan,\n",
      "<ipython-input-3-d2372c1e5743>:51: RuntimeWarning: Mean of empty slice\n",
      "  np.nanmean(df[left_list].replace(to_replace={444: np.nan,\n",
      "<ipython-input-3-d2372c1e5743>:56: SettingWithCopyWarning: \n",
      "A value is trying to be set on a copy of a slice from a DataFrame.\n",
      "Try using .loc[row_indexer,col_indexer] = value instead\n",
      "\n",
      "See the caveats in the documentation: https://pandas.pydata.org/pandas-docs/stable/user_guide/indexing.html#returning-a-view-versus-a-copy\n",
      "  cur_df['tinnitus'] = cur_df[cur_col_list[2]].replace(to_replace={1: True,\n",
      "<ipython-input-3-d2372c1e5743>:60: SettingWithCopyWarning: \n",
      "A value is trying to be set on a copy of a slice from a DataFrame\n",
      "\n",
      "See the caveats in the documentation: https://pandas.pydata.org/pandas-docs/stable/user_guide/indexing.html#returning-a-view-versus-a-copy\n",
      "  cur_df.dropna(subset=['pta','tinnitus'], inplace=True)\n",
      "<ipython-input-3-d2372c1e5743>:61: SettingWithCopyWarning: \n",
      "A value is trying to be set on a copy of a slice from a DataFrame.\n",
      "Try using .loc[row_indexer,col_indexer] = value instead\n",
      "\n",
      "See the caveats in the documentation: https://pandas.pydata.org/pandas-docs/stable/user_guide/indexing.html#returning-a-view-versus-a-copy\n",
      "  cur_df['tinnitus'] = cur_df['tinnitus'] == True\n"
     ]
    },
    {
     "name": "stdout",
     "output_type": "stream",
     "text": [
      "2005\n"
     ]
    },
    {
     "name": "stderr",
     "output_type": "stream",
     "text": [
      "<ipython-input-3-d2372c1e5743>:36: RuntimeWarning: Mean of empty slice\n",
      "  df['AUXU1KR'] = np.nanmean(replace_bads(df[['AUXU1K1R','AUXU1K2R']]), axis=1)\n",
      "<ipython-input-3-d2372c1e5743>:37: RuntimeWarning: Mean of empty slice\n",
      "  df['AUXU1KL'] = np.nanmean(df[['AUXU1K1L','AUXU1K2L']].replace(to_replace={444: np.nan,\n",
      "<ipython-input-3-d2372c1e5743>:48: RuntimeWarning: Mean of empty slice\n",
      "  df['pta'] = np.mean(([np.nanmean(df[right_list].replace(to_replace={444: np.nan,\n",
      "<ipython-input-3-d2372c1e5743>:51: RuntimeWarning: Mean of empty slice\n",
      "  np.nanmean(df[left_list].replace(to_replace={444: np.nan,\n",
      "<ipython-input-3-d2372c1e5743>:56: SettingWithCopyWarning: \n",
      "A value is trying to be set on a copy of a slice from a DataFrame.\n",
      "Try using .loc[row_indexer,col_indexer] = value instead\n",
      "\n",
      "See the caveats in the documentation: https://pandas.pydata.org/pandas-docs/stable/user_guide/indexing.html#returning-a-view-versus-a-copy\n",
      "  cur_df['tinnitus'] = cur_df[cur_col_list[2]].replace(to_replace={1: True,\n",
      "<ipython-input-3-d2372c1e5743>:60: SettingWithCopyWarning: \n",
      "A value is trying to be set on a copy of a slice from a DataFrame\n",
      "\n",
      "See the caveats in the documentation: https://pandas.pydata.org/pandas-docs/stable/user_guide/indexing.html#returning-a-view-versus-a-copy\n",
      "  cur_df.dropna(subset=['pta','tinnitus'], inplace=True)\n",
      "<ipython-input-3-d2372c1e5743>:61: SettingWithCopyWarning: \n",
      "A value is trying to be set on a copy of a slice from a DataFrame.\n",
      "Try using .loc[row_indexer,col_indexer] = value instead\n",
      "\n",
      "See the caveats in the documentation: https://pandas.pydata.org/pandas-docs/stable/user_guide/indexing.html#returning-a-view-versus-a-copy\n",
      "  cur_df['tinnitus'] = cur_df['tinnitus'] == True\n"
     ]
    },
    {
     "name": "stdout",
     "output_type": "stream",
     "text": [
      "2007\n"
     ]
    },
    {
     "name": "stderr",
     "output_type": "stream",
     "text": [
      "<ipython-input-3-d2372c1e5743>:36: RuntimeWarning: Mean of empty slice\n",
      "  df['AUXU1KR'] = np.nanmean(replace_bads(df[['AUXU1K1R','AUXU1K2R']]), axis=1)\n",
      "<ipython-input-3-d2372c1e5743>:37: RuntimeWarning: Mean of empty slice\n",
      "  df['AUXU1KL'] = np.nanmean(df[['AUXU1K1L','AUXU1K2L']].replace(to_replace={444: np.nan,\n",
      "<ipython-input-3-d2372c1e5743>:48: RuntimeWarning: Mean of empty slice\n",
      "  df['pta'] = np.mean(([np.nanmean(df[right_list].replace(to_replace={444: np.nan,\n",
      "<ipython-input-3-d2372c1e5743>:51: RuntimeWarning: Mean of empty slice\n",
      "  np.nanmean(df[left_list].replace(to_replace={444: np.nan,\n",
      "<ipython-input-3-d2372c1e5743>:56: SettingWithCopyWarning: \n",
      "A value is trying to be set on a copy of a slice from a DataFrame.\n",
      "Try using .loc[row_indexer,col_indexer] = value instead\n",
      "\n",
      "See the caveats in the documentation: https://pandas.pydata.org/pandas-docs/stable/user_guide/indexing.html#returning-a-view-versus-a-copy\n",
      "  cur_df['tinnitus'] = cur_df[cur_col_list[2]].replace(to_replace={1: True,\n",
      "<ipython-input-3-d2372c1e5743>:60: SettingWithCopyWarning: \n",
      "A value is trying to be set on a copy of a slice from a DataFrame\n",
      "\n",
      "See the caveats in the documentation: https://pandas.pydata.org/pandas-docs/stable/user_guide/indexing.html#returning-a-view-versus-a-copy\n",
      "  cur_df.dropna(subset=['pta','tinnitus'], inplace=True)\n",
      "<ipython-input-3-d2372c1e5743>:61: SettingWithCopyWarning: \n",
      "A value is trying to be set on a copy of a slice from a DataFrame.\n",
      "Try using .loc[row_indexer,col_indexer] = value instead\n",
      "\n",
      "See the caveats in the documentation: https://pandas.pydata.org/pandas-docs/stable/user_guide/indexing.html#returning-a-view-versus-a-copy\n",
      "  cur_df['tinnitus'] = cur_df['tinnitus'] == True\n"
     ]
    },
    {
     "name": "stdout",
     "output_type": "stream",
     "text": [
      "2009\n"
     ]
    },
    {
     "name": "stderr",
     "output_type": "stream",
     "text": [
      "<ipython-input-3-d2372c1e5743>:36: RuntimeWarning: Mean of empty slice\n",
      "  df['AUXU1KR'] = np.nanmean(replace_bads(df[['AUXU1K1R','AUXU1K2R']]), axis=1)\n",
      "<ipython-input-3-d2372c1e5743>:37: RuntimeWarning: Mean of empty slice\n",
      "  df['AUXU1KL'] = np.nanmean(df[['AUXU1K1L','AUXU1K2L']].replace(to_replace={444: np.nan,\n",
      "<ipython-input-3-d2372c1e5743>:48: RuntimeWarning: Mean of empty slice\n",
      "  df['pta'] = np.mean(([np.nanmean(df[right_list].replace(to_replace={444: np.nan,\n",
      "<ipython-input-3-d2372c1e5743>:51: RuntimeWarning: Mean of empty slice\n",
      "  np.nanmean(df[left_list].replace(to_replace={444: np.nan,\n",
      "<ipython-input-3-d2372c1e5743>:56: SettingWithCopyWarning: \n",
      "A value is trying to be set on a copy of a slice from a DataFrame.\n",
      "Try using .loc[row_indexer,col_indexer] = value instead\n",
      "\n",
      "See the caveats in the documentation: https://pandas.pydata.org/pandas-docs/stable/user_guide/indexing.html#returning-a-view-versus-a-copy\n",
      "  cur_df['tinnitus'] = cur_df[cur_col_list[2]].replace(to_replace={1: True,\n",
      "<ipython-input-3-d2372c1e5743>:60: SettingWithCopyWarning: \n",
      "A value is trying to be set on a copy of a slice from a DataFrame\n",
      "\n",
      "See the caveats in the documentation: https://pandas.pydata.org/pandas-docs/stable/user_guide/indexing.html#returning-a-view-versus-a-copy\n",
      "  cur_df.dropna(subset=['pta','tinnitus'], inplace=True)\n",
      "<ipython-input-3-d2372c1e5743>:61: SettingWithCopyWarning: \n",
      "A value is trying to be set on a copy of a slice from a DataFrame.\n",
      "Try using .loc[row_indexer,col_indexer] = value instead\n",
      "\n",
      "See the caveats in the documentation: https://pandas.pydata.org/pandas-docs/stable/user_guide/indexing.html#returning-a-view-versus-a-copy\n",
      "  cur_df['tinnitus'] = cur_df['tinnitus'] == True\n"
     ]
    },
    {
     "name": "stdout",
     "output_type": "stream",
     "text": [
      "2011\n"
     ]
    },
    {
     "name": "stderr",
     "output_type": "stream",
     "text": [
      "<ipython-input-3-d2372c1e5743>:36: RuntimeWarning: Mean of empty slice\n",
      "  df['AUXU1KR'] = np.nanmean(replace_bads(df[['AUXU1K1R','AUXU1K2R']]), axis=1)\n",
      "<ipython-input-3-d2372c1e5743>:37: RuntimeWarning: Mean of empty slice\n",
      "  df['AUXU1KL'] = np.nanmean(df[['AUXU1K1L','AUXU1K2L']].replace(to_replace={444: np.nan,\n",
      "<ipython-input-3-d2372c1e5743>:48: RuntimeWarning: Mean of empty slice\n",
      "  df['pta'] = np.mean(([np.nanmean(df[right_list].replace(to_replace={444: np.nan,\n",
      "<ipython-input-3-d2372c1e5743>:51: RuntimeWarning: Mean of empty slice\n",
      "  np.nanmean(df[left_list].replace(to_replace={444: np.nan,\n",
      "<ipython-input-3-d2372c1e5743>:56: SettingWithCopyWarning: \n",
      "A value is trying to be set on a copy of a slice from a DataFrame.\n",
      "Try using .loc[row_indexer,col_indexer] = value instead\n",
      "\n",
      "See the caveats in the documentation: https://pandas.pydata.org/pandas-docs/stable/user_guide/indexing.html#returning-a-view-versus-a-copy\n",
      "  cur_df['tinnitus'] = cur_df[cur_col_list[2]].replace(to_replace={1: True,\n",
      "<ipython-input-3-d2372c1e5743>:60: SettingWithCopyWarning: \n",
      "A value is trying to be set on a copy of a slice from a DataFrame\n",
      "\n",
      "See the caveats in the documentation: https://pandas.pydata.org/pandas-docs/stable/user_guide/indexing.html#returning-a-view-versus-a-copy\n",
      "  cur_df.dropna(subset=['pta','tinnitus'], inplace=True)\n",
      "<ipython-input-3-d2372c1e5743>:61: SettingWithCopyWarning: \n",
      "A value is trying to be set on a copy of a slice from a DataFrame.\n",
      "Try using .loc[row_indexer,col_indexer] = value instead\n",
      "\n",
      "See the caveats in the documentation: https://pandas.pydata.org/pandas-docs/stable/user_guide/indexing.html#returning-a-view-versus-a-copy\n",
      "  cur_df['tinnitus'] = cur_df['tinnitus'] == True\n"
     ]
    },
    {
     "name": "stdout",
     "output_type": "stream",
     "text": [
      "2015\n"
     ]
    },
    {
     "name": "stderr",
     "output_type": "stream",
     "text": [
      "<ipython-input-3-d2372c1e5743>:36: RuntimeWarning: Mean of empty slice\n",
      "  df['AUXU1KR'] = np.nanmean(replace_bads(df[['AUXU1K1R','AUXU1K2R']]), axis=1)\n",
      "<ipython-input-3-d2372c1e5743>:37: RuntimeWarning: Mean of empty slice\n",
      "  df['AUXU1KL'] = np.nanmean(df[['AUXU1K1L','AUXU1K2L']].replace(to_replace={444: np.nan,\n",
      "<ipython-input-3-d2372c1e5743>:48: RuntimeWarning: Mean of empty slice\n",
      "  df['pta'] = np.mean(([np.nanmean(df[right_list].replace(to_replace={444: np.nan,\n",
      "<ipython-input-3-d2372c1e5743>:51: RuntimeWarning: Mean of empty slice\n",
      "  np.nanmean(df[left_list].replace(to_replace={444: np.nan,\n",
      "<ipython-input-3-d2372c1e5743>:56: SettingWithCopyWarning: \n",
      "A value is trying to be set on a copy of a slice from a DataFrame.\n",
      "Try using .loc[row_indexer,col_indexer] = value instead\n",
      "\n",
      "See the caveats in the documentation: https://pandas.pydata.org/pandas-docs/stable/user_guide/indexing.html#returning-a-view-versus-a-copy\n",
      "  cur_df['tinnitus'] = cur_df[cur_col_list[2]].replace(to_replace={1: True,\n",
      "<ipython-input-3-d2372c1e5743>:60: SettingWithCopyWarning: \n",
      "A value is trying to be set on a copy of a slice from a DataFrame\n",
      "\n",
      "See the caveats in the documentation: https://pandas.pydata.org/pandas-docs/stable/user_guide/indexing.html#returning-a-view-versus-a-copy\n",
      "  cur_df.dropna(subset=['pta','tinnitus'], inplace=True)\n",
      "<ipython-input-3-d2372c1e5743>:61: SettingWithCopyWarning: \n",
      "A value is trying to be set on a copy of a slice from a DataFrame.\n",
      "Try using .loc[row_indexer,col_indexer] = value instead\n",
      "\n",
      "See the caveats in the documentation: https://pandas.pydata.org/pandas-docs/stable/user_guide/indexing.html#returning-a-view-versus-a-copy\n",
      "  cur_df['tinnitus'] = cur_df['tinnitus'] == True\n"
     ]
    },
    {
     "name": "stdout",
     "output_type": "stream",
     "text": [
      "2017\n"
     ]
    },
    {
     "name": "stderr",
     "output_type": "stream",
     "text": [
      "<ipython-input-3-d2372c1e5743>:36: RuntimeWarning: Mean of empty slice\n",
      "  df['AUXU1KR'] = np.nanmean(replace_bads(df[['AUXU1K1R','AUXU1K2R']]), axis=1)\n",
      "<ipython-input-3-d2372c1e5743>:37: RuntimeWarning: Mean of empty slice\n",
      "  df['AUXU1KL'] = np.nanmean(df[['AUXU1K1L','AUXU1K2L']].replace(to_replace={444: np.nan,\n",
      "<ipython-input-3-d2372c1e5743>:48: RuntimeWarning: Mean of empty slice\n",
      "  df['pta'] = np.mean(([np.nanmean(df[right_list].replace(to_replace={444: np.nan,\n",
      "<ipython-input-3-d2372c1e5743>:51: RuntimeWarning: Mean of empty slice\n",
      "  np.nanmean(df[left_list].replace(to_replace={444: np.nan,\n",
      "<ipython-input-3-d2372c1e5743>:56: SettingWithCopyWarning: \n",
      "A value is trying to be set on a copy of a slice from a DataFrame.\n",
      "Try using .loc[row_indexer,col_indexer] = value instead\n",
      "\n",
      "See the caveats in the documentation: https://pandas.pydata.org/pandas-docs/stable/user_guide/indexing.html#returning-a-view-versus-a-copy\n",
      "  cur_df['tinnitus'] = cur_df[cur_col_list[2]].replace(to_replace={1: True,\n",
      "<ipython-input-3-d2372c1e5743>:60: SettingWithCopyWarning: \n",
      "A value is trying to be set on a copy of a slice from a DataFrame\n",
      "\n",
      "See the caveats in the documentation: https://pandas.pydata.org/pandas-docs/stable/user_guide/indexing.html#returning-a-view-versus-a-copy\n",
      "  cur_df.dropna(subset=['pta','tinnitus'], inplace=True)\n",
      "<ipython-input-3-d2372c1e5743>:61: SettingWithCopyWarning: \n",
      "A value is trying to be set on a copy of a slice from a DataFrame.\n",
      "Try using .loc[row_indexer,col_indexer] = value instead\n",
      "\n",
      "See the caveats in the documentation: https://pandas.pydata.org/pandas-docs/stable/user_guide/indexing.html#returning-a-view-versus-a-copy\n",
      "  cur_df['tinnitus'] = cur_df['tinnitus'] == True\n"
     ]
    }
   ],
   "source": [
    "years = [2001, 2003, 2005, 2007, 2009, 2011, 2015, 2017]\n",
    "year_endings = ['B', 'C', 'D', 'E', 'F', 'G', 'I', 'J']\n",
    "data_files = [ 'AUQ_', 'AUX_', 'DEMO_']\n",
    "\n",
    "#%\n",
    "col_list = {2001: ['SEQN', 'RIDAGEYR', 'AUQ190', 'AUQ200', 'pta'],\n",
    "            2003: ['SEQN', 'RIDAGEYR', 'AUQ190', 'AUQ200', 'pta'],\n",
    "            2005: ['SEQN', 'RIDAGEYR', 'AUQ191', 'AUQ250', 'pta'], #no appropriate question for how often ringing \n",
    "            2007: ['SEQN', 'RIDAGEYR', 'AUQ191', 'AUQ250', 'pta'], #no appropriate question for how often ringing \n",
    "            2009: ['SEQN', 'RIDAGEYR', 'AUQ191', 'AUQ250', 'pta'], #no appropriate question for how often ringing \n",
    "            2011: ['SEQN', 'RIDAGEYR', 'AUQ191', 'AUQ255', 'pta'],\n",
    "            2015: ['SEQN', 'RIDAGEYR', 'AUQ191', 'AUQ255', 'pta'],\n",
    "            2017: ['SEQN', 'RIDAGEYR', 'AUQ191', 'AUQ255', 'pta']}\n",
    "\n",
    "\n",
    "final_cmb = []\n",
    "\n",
    "for year, ending in zip(years, year_endings):\n",
    "\n",
    "    print(year)\n",
    "    indir = op.join(outdir, str(year))\n",
    "    cur_data_files = [cur_f + ending for cur_f in data_files]\n",
    "    df = merge_datasets(indir=indir, data_files=cur_data_files)\n",
    "    df['year'] = year\n",
    "\n",
    "    cur_col_list = col_list[year]\n",
    "    cur_col_list.append('year')\n",
    "\n",
    "    replace_bads = lambda x: x.replace(to_replace={444: np.nan,\n",
    "                                                   666: np.nan,\n",
    "                                                   888: np.nan,})\n",
    "\n",
    "    #500, 1000, 2000, and 4000 Hz -> PTA-4\n",
    "    if 'AUXU1K2R' in df.columns: \n",
    "        df['AUXU1KR'] = np.nanmean(replace_bads(df[['AUXU1K1R','AUXU1K2R']]), axis=1)\n",
    "        df['AUXU1KL'] = np.nanmean(df[['AUXU1K1L','AUXU1K2L']].replace(to_replace={444: np.nan,\n",
    "                                                                                   666: np.nan,\n",
    "                                                                                   888: np.nan,}), axis=1)\n",
    "    else:\n",
    "        df['AUXU1KR'] = df['AUXU1K1R']\n",
    "        df['AUXU1KL'] = df['AUXU1K1L']\n",
    "\n",
    "    right_list = ['AUXU500R', 'AUXU1KR', 'AUXU2KR', 'AUXU4KR']\n",
    "    left_list = ['AUXU500L', 'AUXU1KL', 'AUXU2KL', 'AUXU4KL',]\n",
    "\n",
    "\n",
    "    df['pta'] = np.mean(([np.nanmean(df[right_list].replace(to_replace={444: np.nan,\n",
    "                                                                        666: np.nan,\n",
    "                                                                        888: np.nan,}), axis=1),\n",
    "                          np.nanmean(df[left_list].replace(to_replace={444: np.nan,\n",
    "                                                                       666: np.nan,\n",
    "                                                                       888: np.nan,}), axis=1)]), axis=0)\n",
    "    cur_df = df[cur_col_list]\n",
    "    #TODO: ask lisa how she recoded the variables\n",
    "    cur_df['tinnitus'] = cur_df[cur_col_list[2]].replace(to_replace={1: True,\n",
    "                                                                     2: False,\n",
    "                                                                     9: np.nan})\n",
    "\n",
    "    cur_df.dropna(subset=['pta','tinnitus'], inplace=True)\n",
    "    cur_df['tinnitus'] = cur_df['tinnitus'] == True\n",
    "    \n",
    "    final_columns = ['RIDAGEYR', 'pta', 'tinnitus', 'year']\n",
    "    tinn_dur = cur_col_list[3]\n",
    "    if year in [2005, 2007, 2009]:\n",
    "        df_f = cur_df.query('tinnitus == False')[final_columns]\n",
    "    else:\n",
    "        df_f = pd.concat([cur_df.query(f'{tinn_dur} == 1'), cur_df.query('tinnitus == False')])[final_columns]\n",
    "    df_f.columns = ['age', 'pta', 'tinnitus', 'year']\n",
    "    final_cmb.append(df_f)"
   ]
  },
  {
   "cell_type": "code",
   "execution_count": 4,
   "metadata": {},
   "outputs": [],
   "source": [
    "df_cmb = pd.concat(final_cmb).query('age < 75')"
   ]
  },
  {
   "cell_type": "code",
   "execution_count": 7,
   "metadata": {},
   "outputs": [],
   "source": [
    "with pm.Model() as mediation_model:\n",
    "\n",
    "    # intercept priors\n",
    "    im = pm.Normal(\"im\", 0, 1)\n",
    "    iy = pm.Normal(\"iy\", 0, 1)\n",
    "    # slope priors\n",
    "    a = pm.Normal(\"a\", 0, 1)\n",
    "    b = pm.Normal(\"b\", 0, 1)\n",
    "    cprime = pm.Normal(\"cprime\", 0, 1)\n",
    "    sigma = pm.Exponential('sigma', 1)\n",
    "\n",
    "    m = pm.Normal('m', \n",
    "                mu=im + (a * sp.zscore(df_cmb['age'])),\n",
    "                sigma=sigma,\n",
    "                observed=sp.zscore(df_cmb['pta']))\n",
    "\n",
    "    y = pm.Bernoulli('y', \n",
    "                 p=pm.invlogit(iy + (b * sp.zscore(df_cmb['pta'])) + cprime * sp.zscore(df_cmb['age'])),\n",
    "                 observed=df_cmb['tinnitus'])\n",
    "\n",
    "    indirect_effect = pm.Deterministic(\"indirect effect\", a * b)\n",
    "    total_effect = pm.Deterministic(\"total effect\", a * b + cprime)"
   ]
  },
  {
   "cell_type": "code",
   "execution_count": 8,
   "metadata": {},
   "outputs": [
    {
     "data": {
      "image/svg+xml": [
       "<?xml version=\"1.0\" encoding=\"UTF-8\" standalone=\"no\"?>\n",
       "<!DOCTYPE svg PUBLIC \"-//W3C//DTD SVG 1.1//EN\"\n",
       " \"http://www.w3.org/Graphics/SVG/1.1/DTD/svg11.dtd\">\n",
       "<!-- Generated by graphviz version 8.1.0 (20230707.2238)\n",
       " -->\n",
       "<!-- Pages: 1 -->\n",
       "<svg width=\"741pt\" height=\"254pt\"\n",
       " viewBox=\"0.00 0.00 740.65 254.25\" xmlns=\"http://www.w3.org/2000/svg\" xmlns:xlink=\"http://www.w3.org/1999/xlink\">\n",
       "<g id=\"graph0\" class=\"graph\" transform=\"scale(1 1) rotate(0) translate(4 250.25)\">\n",
       "<polygon fill=\"white\" stroke=\"none\" points=\"-4,4 -4,-250.25 736.65,-250.25 736.65,4 -4,4\"/>\n",
       "<g id=\"clust1\" class=\"cluster\">\n",
       "<title>cluster15467</title>\n",
       "<path fill=\"none\" stroke=\"black\" d=\"M306.88,-8C306.88,-8 528.88,-8 528.88,-8 534.88,-8 540.88,-14 540.88,-20 540.88,-20 540.88,-121.75 540.88,-121.75 540.88,-127.75 534.88,-133.75 528.88,-133.75 528.88,-133.75 306.88,-133.75 306.88,-133.75 300.88,-133.75 294.88,-127.75 294.88,-121.75 294.88,-121.75 294.88,-20 294.88,-20 294.88,-14 300.88,-8 306.88,-8\"/>\n",
       "<text text-anchor=\"middle\" x=\"510.38\" y=\"-15.95\" font-family=\"Times,serif\" font-size=\"14.00\">15467</text>\n",
       "</g>\n",
       "<!-- cprime -->\n",
       "<g id=\"node1\" class=\"node\">\n",
       "<title>cprime</title>\n",
       "<ellipse fill=\"none\" stroke=\"black\" cx=\"289.88\" cy=\"-204\" rx=\"48.97\" ry=\"42.25\"/>\n",
       "<text text-anchor=\"middle\" x=\"289.88\" y=\"-216.57\" font-family=\"Times,serif\" font-size=\"14.00\">cprime</text>\n",
       "<text text-anchor=\"middle\" x=\"289.88\" y=\"-199.32\" font-family=\"Times,serif\" font-size=\"14.00\">~</text>\n",
       "<text text-anchor=\"middle\" x=\"289.88\" y=\"-182.07\" font-family=\"Times,serif\" font-size=\"14.00\">Normal</text>\n",
       "</g>\n",
       "<!-- total effect -->\n",
       "<g id=\"node8\" class=\"node\">\n",
       "<title>total effect</title>\n",
       "<polygon fill=\"none\" stroke=\"black\" points=\"247.62,-113.37 134.12,-113.37 134.12,-53.62 247.62,-53.62 247.62,-113.37\"/>\n",
       "<text text-anchor=\"middle\" x=\"190.88\" y=\"-96.07\" font-family=\"Times,serif\" font-size=\"14.00\">total effect</text>\n",
       "<text text-anchor=\"middle\" x=\"190.88\" y=\"-78.82\" font-family=\"Times,serif\" font-size=\"14.00\">~</text>\n",
       "<text text-anchor=\"middle\" x=\"190.88\" y=\"-61.57\" font-family=\"Times,serif\" font-size=\"14.00\">Deterministic</text>\n",
       "</g>\n",
       "<!-- cprime&#45;&gt;total effect -->\n",
       "<g id=\"edge10\" class=\"edge\">\n",
       "<title>cprime&#45;&gt;total effect</title>\n",
       "<path fill=\"none\" stroke=\"black\" d=\"M261.51,-169.04C249.16,-154.27 234.66,-136.91 222.03,-121.79\"/>\n",
       "<polygon fill=\"black\" stroke=\"black\" points=\"224.32,-120.07 215.22,-114.64 218.95,-124.56 224.32,-120.07\"/>\n",
       "</g>\n",
       "<!-- y -->\n",
       "<g id=\"node10\" class=\"node\">\n",
       "<title>y</title>\n",
       "<ellipse fill=\"lightgrey\" stroke=\"black\" cx=\"359.88\" cy=\"-83.5\" rx=\"57.45\" ry=\"42.25\"/>\n",
       "<text text-anchor=\"middle\" x=\"359.88\" y=\"-96.07\" font-family=\"Times,serif\" font-size=\"14.00\">y</text>\n",
       "<text text-anchor=\"middle\" x=\"359.88\" y=\"-78.82\" font-family=\"Times,serif\" font-size=\"14.00\">~</text>\n",
       "<text text-anchor=\"middle\" x=\"359.88\" y=\"-61.57\" font-family=\"Times,serif\" font-size=\"14.00\">Bernoulli</text>\n",
       "</g>\n",
       "<!-- cprime&#45;&gt;y -->\n",
       "<g id=\"edge5\" class=\"edge\">\n",
       "<title>cprime&#45;&gt;y</title>\n",
       "<path fill=\"none\" stroke=\"black\" d=\"M311.83,-165.83C318.16,-155.12 325.15,-143.28 331.79,-132.04\"/>\n",
       "<polygon fill=\"black\" stroke=\"black\" points=\"335.2,-134.15 337.27,-123.76 329.17,-130.59 335.2,-134.15\"/>\n",
       "</g>\n",
       "<!-- im -->\n",
       "<g id=\"node2\" class=\"node\">\n",
       "<title>im</title>\n",
       "<ellipse fill=\"none\" stroke=\"black\" cx=\"521.88\" cy=\"-204\" rx=\"48.97\" ry=\"42.25\"/>\n",
       "<text text-anchor=\"middle\" x=\"521.88\" y=\"-216.57\" font-family=\"Times,serif\" font-size=\"14.00\">im</text>\n",
       "<text text-anchor=\"middle\" x=\"521.88\" y=\"-199.32\" font-family=\"Times,serif\" font-size=\"14.00\">~</text>\n",
       "<text text-anchor=\"middle\" x=\"521.88\" y=\"-182.07\" font-family=\"Times,serif\" font-size=\"14.00\">Normal</text>\n",
       "</g>\n",
       "<!-- m -->\n",
       "<g id=\"node9\" class=\"node\">\n",
       "<title>m</title>\n",
       "<ellipse fill=\"lightgrey\" stroke=\"black\" cx=\"483.88\" cy=\"-83.5\" rx=\"48.97\" ry=\"42.25\"/>\n",
       "<text text-anchor=\"middle\" x=\"483.88\" y=\"-96.07\" font-family=\"Times,serif\" font-size=\"14.00\">m</text>\n",
       "<text text-anchor=\"middle\" x=\"483.88\" y=\"-78.82\" font-family=\"Times,serif\" font-size=\"14.00\">~</text>\n",
       "<text text-anchor=\"middle\" x=\"483.88\" y=\"-61.57\" font-family=\"Times,serif\" font-size=\"14.00\">Normal</text>\n",
       "</g>\n",
       "<!-- im&#45;&gt;m -->\n",
       "<g id=\"edge1\" class=\"edge\">\n",
       "<title>im&#45;&gt;m</title>\n",
       "<path fill=\"none\" stroke=\"black\" d=\"M509.01,-162.88C506.13,-153.9 503.04,-144.27 500.05,-134.94\"/>\n",
       "<polygon fill=\"black\" stroke=\"black\" points=\"503.11,-134.03 496.73,-125.58 496.45,-136.17 503.11,-134.03\"/>\n",
       "</g>\n",
       "<!-- iy -->\n",
       "<g id=\"node3\" class=\"node\">\n",
       "<title>iy</title>\n",
       "<ellipse fill=\"none\" stroke=\"black\" cx=\"405.88\" cy=\"-204\" rx=\"48.97\" ry=\"42.25\"/>\n",
       "<text text-anchor=\"middle\" x=\"405.88\" y=\"-216.57\" font-family=\"Times,serif\" font-size=\"14.00\">iy</text>\n",
       "<text text-anchor=\"middle\" x=\"405.88\" y=\"-199.32\" font-family=\"Times,serif\" font-size=\"14.00\">~</text>\n",
       "<text text-anchor=\"middle\" x=\"405.88\" y=\"-182.07\" font-family=\"Times,serif\" font-size=\"14.00\">Normal</text>\n",
       "</g>\n",
       "<!-- iy&#45;&gt;y -->\n",
       "<g id=\"edge6\" class=\"edge\">\n",
       "<title>iy&#45;&gt;y</title>\n",
       "<path fill=\"none\" stroke=\"black\" d=\"M390.56,-163.54C386.99,-154.34 383.14,-144.43 379.41,-134.83\"/>\n",
       "<polygon fill=\"black\" stroke=\"black\" points=\"382.32,-133.65 375.44,-125.59 375.8,-136.18 382.32,-133.65\"/>\n",
       "</g>\n",
       "<!-- indirect effect -->\n",
       "<g id=\"node4\" class=\"node\">\n",
       "<title>indirect effect</title>\n",
       "<polygon fill=\"none\" stroke=\"black\" points=\"115.75,-113.37 0,-113.37 0,-53.62 115.75,-53.62 115.75,-113.37\"/>\n",
       "<text text-anchor=\"middle\" x=\"57.88\" y=\"-96.07\" font-family=\"Times,serif\" font-size=\"14.00\">indirect effect</text>\n",
       "<text text-anchor=\"middle\" x=\"57.88\" y=\"-78.82\" font-family=\"Times,serif\" font-size=\"14.00\">~</text>\n",
       "<text text-anchor=\"middle\" x=\"57.88\" y=\"-61.57\" font-family=\"Times,serif\" font-size=\"14.00\">Deterministic</text>\n",
       "</g>\n",
       "<!-- b -->\n",
       "<g id=\"node5\" class=\"node\">\n",
       "<title>b</title>\n",
       "<ellipse fill=\"none\" stroke=\"black\" cx=\"57.88\" cy=\"-204\" rx=\"48.97\" ry=\"42.25\"/>\n",
       "<text text-anchor=\"middle\" x=\"57.88\" y=\"-216.57\" font-family=\"Times,serif\" font-size=\"14.00\">b</text>\n",
       "<text text-anchor=\"middle\" x=\"57.88\" y=\"-199.32\" font-family=\"Times,serif\" font-size=\"14.00\">~</text>\n",
       "<text text-anchor=\"middle\" x=\"57.88\" y=\"-182.07\" font-family=\"Times,serif\" font-size=\"14.00\">Normal</text>\n",
       "</g>\n",
       "<!-- b&#45;&gt;indirect effect -->\n",
       "<g id=\"edge7\" class=\"edge\">\n",
       "<title>b&#45;&gt;indirect effect</title>\n",
       "<path fill=\"none\" stroke=\"black\" d=\"M57.88,-161.55C57.88,-149.62 57.88,-136.62 57.88,-124.76\"/>\n",
       "<polygon fill=\"black\" stroke=\"black\" points=\"61.38,-124.8 57.88,-114.8 54.38,-124.8 61.38,-124.8\"/>\n",
       "</g>\n",
       "<!-- b&#45;&gt;total effect -->\n",
       "<g id=\"edge9\" class=\"edge\">\n",
       "<title>b&#45;&gt;total effect</title>\n",
       "<path fill=\"none\" stroke=\"black\" d=\"M91.44,-173.1C109.27,-157.21 131.33,-137.56 150.13,-120.8\"/>\n",
       "<polygon fill=\"black\" stroke=\"black\" points=\"152.11,-123.84 157.24,-114.57 147.45,-118.61 152.11,-123.84\"/>\n",
       "</g>\n",
       "<!-- b&#45;&gt;y -->\n",
       "<g id=\"edge4\" class=\"edge\">\n",
       "<title>b&#45;&gt;y</title>\n",
       "<path fill=\"none\" stroke=\"black\" d=\"M93.29,-174.32C100.45,-169.55 108.16,-165.08 115.88,-161.75 174.54,-136.45 196.25,-153.91 256.88,-133.75 272.69,-128.49 289.23,-121.37 304.31,-114.19\"/>\n",
       "<polygon fill=\"black\" stroke=\"black\" points=\"305.53,-117 312.98,-109.47 302.46,-110.7 305.53,-117\"/>\n",
       "</g>\n",
       "<!-- a -->\n",
       "<g id=\"node6\" class=\"node\">\n",
       "<title>a</title>\n",
       "<ellipse fill=\"none\" stroke=\"black\" cx=\"173.88\" cy=\"-204\" rx=\"48.97\" ry=\"42.25\"/>\n",
       "<text text-anchor=\"middle\" x=\"173.88\" y=\"-216.57\" font-family=\"Times,serif\" font-size=\"14.00\">a</text>\n",
       "<text text-anchor=\"middle\" x=\"173.88\" y=\"-199.32\" font-family=\"Times,serif\" font-size=\"14.00\">~</text>\n",
       "<text text-anchor=\"middle\" x=\"173.88\" y=\"-182.07\" font-family=\"Times,serif\" font-size=\"14.00\">Normal</text>\n",
       "</g>\n",
       "<!-- a&#45;&gt;indirect effect -->\n",
       "<g id=\"edge8\" class=\"edge\">\n",
       "<title>a&#45;&gt;indirect effect</title>\n",
       "<path fill=\"none\" stroke=\"black\" d=\"M142.79,-171.24C127.68,-155.81 109.44,-137.17 93.74,-121.14\"/>\n",
       "<polygon fill=\"black\" stroke=\"black\" points=\"96.76,-119.2 87.26,-114.5 91.76,-124.09 96.76,-119.2\"/>\n",
       "</g>\n",
       "<!-- a&#45;&gt;total effect -->\n",
       "<g id=\"edge11\" class=\"edge\">\n",
       "<title>a&#45;&gt;total effect</title>\n",
       "<path fill=\"none\" stroke=\"black\" d=\"M179.77,-161.89C181.52,-149.71 183.43,-136.39 185.17,-124.3\"/>\n",
       "<polygon fill=\"black\" stroke=\"black\" points=\"188.74,-124.99 186.7,-114.6 181.82,-124 188.74,-124.99\"/>\n",
       "</g>\n",
       "<!-- a&#45;&gt;m -->\n",
       "<g id=\"edge3\" class=\"edge\">\n",
       "<title>a&#45;&gt;m</title>\n",
       "<path fill=\"none\" stroke=\"black\" d=\"M208.84,-174.2C216.1,-169.37 223.96,-164.92 231.88,-161.75 312.75,-129.37 346.46,-169.56 425.88,-133.75 432.27,-130.87 438.5,-127.06 444.37,-122.84\"/>\n",
       "<polygon fill=\"black\" stroke=\"black\" points=\"445.91,-125.3 451.68,-116.42 441.63,-119.77 445.91,-125.3\"/>\n",
       "</g>\n",
       "<!-- sigma -->\n",
       "<g id=\"node7\" class=\"node\">\n",
       "<title>sigma</title>\n",
       "<ellipse fill=\"none\" stroke=\"black\" cx=\"660.88\" cy=\"-204\" rx=\"71.77\" ry=\"42.25\"/>\n",
       "<text text-anchor=\"middle\" x=\"660.88\" y=\"-216.57\" font-family=\"Times,serif\" font-size=\"14.00\">sigma</text>\n",
       "<text text-anchor=\"middle\" x=\"660.88\" y=\"-199.32\" font-family=\"Times,serif\" font-size=\"14.00\">~</text>\n",
       "<text text-anchor=\"middle\" x=\"660.88\" y=\"-182.07\" font-family=\"Times,serif\" font-size=\"14.00\">Exponential</text>\n",
       "</g>\n",
       "<!-- sigma&#45;&gt;m -->\n",
       "<g id=\"edge2\" class=\"edge\">\n",
       "<title>sigma&#45;&gt;m</title>\n",
       "<path fill=\"none\" stroke=\"black\" d=\"M613.91,-171.55C588.46,-154.52 557.08,-133.51 531.53,-116.4\"/>\n",
       "<polygon fill=\"black\" stroke=\"black\" points=\"533.66,-112.95 523.4,-110.29 529.76,-118.76 533.66,-112.95\"/>\n",
       "</g>\n",
       "</g>\n",
       "</svg>\n"
      ],
      "text/plain": [
       "<graphviz.graphs.Digraph at 0x7f02b91f9f10>"
      ]
     },
     "execution_count": 8,
     "metadata": {},
     "output_type": "execute_result"
    }
   ],
   "source": [
    "pm.model_to_graphviz(mediation_model)"
   ]
  },
  {
   "cell_type": "code",
   "execution_count": 9,
   "metadata": {},
   "outputs": [
    {
     "name": "stderr",
     "output_type": "stream",
     "text": [
      "Auto-assigning NUTS sampler...\n",
      "Initializing NUTS using jitter+adapt_diag...\n",
      "Sequential sampling (4 chains in 1 job)\n",
      "NUTS: [im, iy, a, b, cprime, sigma]\n"
     ]
    },
    {
     "data": {
      "text/html": [
       "\n",
       "<style>\n",
       "    /* Turns off some styling */\n",
       "    progress {\n",
       "        /* gets rid of default border in Firefox and Opera. */\n",
       "        border: none;\n",
       "        /* Needs to be in here for Safari polyfill so background images work as expected. */\n",
       "        background-size: auto;\n",
       "    }\n",
       "    progress:not([value]), progress:not([value])::-webkit-progress-bar {\n",
       "        background: repeating-linear-gradient(45deg, #7e7e7e, #7e7e7e 10px, #5c5c5c 10px, #5c5c5c 20px);\n",
       "    }\n",
       "    .progress-bar-interrupted, .progress-bar-interrupted::-webkit-progress-bar {\n",
       "        background: #F44336;\n",
       "    }\n",
       "</style>\n"
      ],
      "text/plain": [
       "<IPython.core.display.HTML object>"
      ]
     },
     "metadata": {},
     "output_type": "display_data"
    },
    {
     "data": {
      "text/html": [
       "\n",
       "    <div>\n",
       "      <progress value='6000' class='' max='6000' style='width:300px; height:20px; vertical-align: middle;'></progress>\n",
       "      100.00% [6000/6000 01:16&lt;00:00 Sampling chain 0, 0 divergences]\n",
       "    </div>\n",
       "    "
      ],
      "text/plain": [
       "<IPython.core.display.HTML object>"
      ]
     },
     "metadata": {},
     "output_type": "display_data"
    },
    {
     "data": {
      "text/html": [
       "\n",
       "<style>\n",
       "    /* Turns off some styling */\n",
       "    progress {\n",
       "        /* gets rid of default border in Firefox and Opera. */\n",
       "        border: none;\n",
       "        /* Needs to be in here for Safari polyfill so background images work as expected. */\n",
       "        background-size: auto;\n",
       "    }\n",
       "    progress:not([value]), progress:not([value])::-webkit-progress-bar {\n",
       "        background: repeating-linear-gradient(45deg, #7e7e7e, #7e7e7e 10px, #5c5c5c 10px, #5c5c5c 20px);\n",
       "    }\n",
       "    .progress-bar-interrupted, .progress-bar-interrupted::-webkit-progress-bar {\n",
       "        background: #F44336;\n",
       "    }\n",
       "</style>\n"
      ],
      "text/plain": [
       "<IPython.core.display.HTML object>"
      ]
     },
     "metadata": {},
     "output_type": "display_data"
    },
    {
     "data": {
      "text/html": [
       "\n",
       "    <div>\n",
       "      <progress value='6000' class='' max='6000' style='width:300px; height:20px; vertical-align: middle;'></progress>\n",
       "      100.00% [6000/6000 01:14&lt;00:00 Sampling chain 1, 0 divergences]\n",
       "    </div>\n",
       "    "
      ],
      "text/plain": [
       "<IPython.core.display.HTML object>"
      ]
     },
     "metadata": {},
     "output_type": "display_data"
    },
    {
     "data": {
      "text/html": [
       "\n",
       "<style>\n",
       "    /* Turns off some styling */\n",
       "    progress {\n",
       "        /* gets rid of default border in Firefox and Opera. */\n",
       "        border: none;\n",
       "        /* Needs to be in here for Safari polyfill so background images work as expected. */\n",
       "        background-size: auto;\n",
       "    }\n",
       "    progress:not([value]), progress:not([value])::-webkit-progress-bar {\n",
       "        background: repeating-linear-gradient(45deg, #7e7e7e, #7e7e7e 10px, #5c5c5c 10px, #5c5c5c 20px);\n",
       "    }\n",
       "    .progress-bar-interrupted, .progress-bar-interrupted::-webkit-progress-bar {\n",
       "        background: #F44336;\n",
       "    }\n",
       "</style>\n"
      ],
      "text/plain": [
       "<IPython.core.display.HTML object>"
      ]
     },
     "metadata": {},
     "output_type": "display_data"
    },
    {
     "data": {
      "text/html": [
       "\n",
       "    <div>\n",
       "      <progress value='6000' class='' max='6000' style='width:300px; height:20px; vertical-align: middle;'></progress>\n",
       "      100.00% [6000/6000 01:14&lt;00:00 Sampling chain 2, 0 divergences]\n",
       "    </div>\n",
       "    "
      ],
      "text/plain": [
       "<IPython.core.display.HTML object>"
      ]
     },
     "metadata": {},
     "output_type": "display_data"
    },
    {
     "data": {
      "text/html": [
       "\n",
       "<style>\n",
       "    /* Turns off some styling */\n",
       "    progress {\n",
       "        /* gets rid of default border in Firefox and Opera. */\n",
       "        border: none;\n",
       "        /* Needs to be in here for Safari polyfill so background images work as expected. */\n",
       "        background-size: auto;\n",
       "    }\n",
       "    progress:not([value]), progress:not([value])::-webkit-progress-bar {\n",
       "        background: repeating-linear-gradient(45deg, #7e7e7e, #7e7e7e 10px, #5c5c5c 10px, #5c5c5c 20px);\n",
       "    }\n",
       "    .progress-bar-interrupted, .progress-bar-interrupted::-webkit-progress-bar {\n",
       "        background: #F44336;\n",
       "    }\n",
       "</style>\n"
      ],
      "text/plain": [
       "<IPython.core.display.HTML object>"
      ]
     },
     "metadata": {},
     "output_type": "display_data"
    },
    {
     "data": {
      "text/html": [
       "\n",
       "    <div>\n",
       "      <progress value='6000' class='' max='6000' style='width:300px; height:20px; vertical-align: middle;'></progress>\n",
       "      100.00% [6000/6000 01:12&lt;00:00 Sampling chain 3, 0 divergences]\n",
       "    </div>\n",
       "    "
      ],
      "text/plain": [
       "<IPython.core.display.HTML object>"
      ]
     },
     "metadata": {},
     "output_type": "display_data"
    },
    {
     "name": "stderr",
     "output_type": "stream",
     "text": [
      "Sampling 4 chains for 2_000 tune and 4_000 draw iterations (8_000 + 16_000 draws total) took 297 seconds.\n"
     ]
    }
   ],
   "source": [
    "sample_kwargs = {'draws': 4000,\n",
    "                 'tune': 2000,\n",
    "                 'chains': 4,\n",
    "                 'target_accept': 0.9,}\n",
    "\n",
    "with mediation_model:\n",
    "    trace = pm.sample(**sample_kwargs)"
   ]
  },
  {
   "cell_type": "code",
   "execution_count": 10,
   "metadata": {},
   "outputs": [
    {
     "data": {
      "text/html": [
       "<div>\n",
       "<style scoped>\n",
       "    .dataframe tbody tr th:only-of-type {\n",
       "        vertical-align: middle;\n",
       "    }\n",
       "\n",
       "    .dataframe tbody tr th {\n",
       "        vertical-align: top;\n",
       "    }\n",
       "\n",
       "    .dataframe thead th {\n",
       "        text-align: right;\n",
       "    }\n",
       "</style>\n",
       "<table border=\"1\" class=\"dataframe\">\n",
       "  <thead>\n",
       "    <tr style=\"text-align: right;\">\n",
       "      <th></th>\n",
       "      <th>mean</th>\n",
       "      <th>sd</th>\n",
       "      <th>hdi_3%</th>\n",
       "      <th>hdi_97%</th>\n",
       "      <th>mcse_mean</th>\n",
       "      <th>mcse_sd</th>\n",
       "      <th>ess_bulk</th>\n",
       "      <th>ess_tail</th>\n",
       "      <th>r_hat</th>\n",
       "    </tr>\n",
       "  </thead>\n",
       "  <tbody>\n",
       "    <tr>\n",
       "      <th>im</th>\n",
       "      <td>0.000</td>\n",
       "      <td>0.006</td>\n",
       "      <td>-0.012</td>\n",
       "      <td>0.012</td>\n",
       "      <td>0.000</td>\n",
       "      <td>0.0</td>\n",
       "      <td>23290.0</td>\n",
       "      <td>11508.0</td>\n",
       "      <td>1.0</td>\n",
       "    </tr>\n",
       "    <tr>\n",
       "      <th>iy</th>\n",
       "      <td>-3.866</td>\n",
       "      <td>0.064</td>\n",
       "      <td>-3.985</td>\n",
       "      <td>-3.746</td>\n",
       "      <td>0.001</td>\n",
       "      <td>0.0</td>\n",
       "      <td>14124.0</td>\n",
       "      <td>11665.0</td>\n",
       "      <td>1.0</td>\n",
       "    </tr>\n",
       "    <tr>\n",
       "      <th>a</th>\n",
       "      <td>0.597</td>\n",
       "      <td>0.006</td>\n",
       "      <td>0.585</td>\n",
       "      <td>0.609</td>\n",
       "      <td>0.000</td>\n",
       "      <td>0.0</td>\n",
       "      <td>21811.0</td>\n",
       "      <td>11401.0</td>\n",
       "      <td>1.0</td>\n",
       "    </tr>\n",
       "    <tr>\n",
       "      <th>b</th>\n",
       "      <td>0.490</td>\n",
       "      <td>0.035</td>\n",
       "      <td>0.424</td>\n",
       "      <td>0.555</td>\n",
       "      <td>0.000</td>\n",
       "      <td>0.0</td>\n",
       "      <td>16965.0</td>\n",
       "      <td>12113.0</td>\n",
       "      <td>1.0</td>\n",
       "    </tr>\n",
       "    <tr>\n",
       "      <th>cprime</th>\n",
       "      <td>0.668</td>\n",
       "      <td>0.057</td>\n",
       "      <td>0.563</td>\n",
       "      <td>0.777</td>\n",
       "      <td>0.000</td>\n",
       "      <td>0.0</td>\n",
       "      <td>13210.0</td>\n",
       "      <td>12481.0</td>\n",
       "      <td>1.0</td>\n",
       "    </tr>\n",
       "    <tr>\n",
       "      <th>sigma</th>\n",
       "      <td>0.802</td>\n",
       "      <td>0.005</td>\n",
       "      <td>0.793</td>\n",
       "      <td>0.810</td>\n",
       "      <td>0.000</td>\n",
       "      <td>0.0</td>\n",
       "      <td>20270.0</td>\n",
       "      <td>11944.0</td>\n",
       "      <td>1.0</td>\n",
       "    </tr>\n",
       "    <tr>\n",
       "      <th>indirect effect</th>\n",
       "      <td>0.293</td>\n",
       "      <td>0.021</td>\n",
       "      <td>0.253</td>\n",
       "      <td>0.332</td>\n",
       "      <td>0.000</td>\n",
       "      <td>0.0</td>\n",
       "      <td>17044.0</td>\n",
       "      <td>12279.0</td>\n",
       "      <td>1.0</td>\n",
       "    </tr>\n",
       "    <tr>\n",
       "      <th>total effect</th>\n",
       "      <td>0.960</td>\n",
       "      <td>0.050</td>\n",
       "      <td>0.866</td>\n",
       "      <td>1.056</td>\n",
       "      <td>0.000</td>\n",
       "      <td>0.0</td>\n",
       "      <td>13670.0</td>\n",
       "      <td>13251.0</td>\n",
       "      <td>1.0</td>\n",
       "    </tr>\n",
       "  </tbody>\n",
       "</table>\n",
       "</div>"
      ],
      "text/plain": [
       "                  mean     sd  hdi_3%  hdi_97%  mcse_mean  mcse_sd  ess_bulk  \\\n",
       "im               0.000  0.006  -0.012    0.012      0.000      0.0   23290.0   \n",
       "iy              -3.866  0.064  -3.985   -3.746      0.001      0.0   14124.0   \n",
       "a                0.597  0.006   0.585    0.609      0.000      0.0   21811.0   \n",
       "b                0.490  0.035   0.424    0.555      0.000      0.0   16965.0   \n",
       "cprime           0.668  0.057   0.563    0.777      0.000      0.0   13210.0   \n",
       "sigma            0.802  0.005   0.793    0.810      0.000      0.0   20270.0   \n",
       "indirect effect  0.293  0.021   0.253    0.332      0.000      0.0   17044.0   \n",
       "total effect     0.960  0.050   0.866    1.056      0.000      0.0   13670.0   \n",
       "\n",
       "                 ess_tail  r_hat  \n",
       "im                11508.0    1.0  \n",
       "iy                11665.0    1.0  \n",
       "a                 11401.0    1.0  \n",
       "b                 12113.0    1.0  \n",
       "cprime            12481.0    1.0  \n",
       "sigma             11944.0    1.0  \n",
       "indirect effect   12279.0    1.0  \n",
       "total effect      13251.0    1.0  "
      ]
     },
     "execution_count": 10,
     "metadata": {},
     "output_type": "execute_result"
    }
   ],
   "source": [
    "az.summary(trace)"
   ]
  },
  {
   "cell_type": "markdown",
   "metadata": {},
   "source": [
    "Nice! So The direct effect of age on tinnitus (cprime) is stronger then the indirect effect over hearing ability.\n",
    "this kind of bolsters our claim that age is an independent risk factor for tinnitus. However, maybe keep in mind that while the audiogram is currently still the gold-standard to measure hearing ability \"hidden\" hearing loss exists and could explain these results."
   ]
  },
  {
   "cell_type": "markdown",
   "metadata": {},
   "source": []
  }
 ],
 "metadata": {
  "kernelspec": {
   "display_name": "Python 3",
   "language": "python",
   "name": "python3"
  },
  "language_info": {
   "name": "python",
   "version": "3.11.5"
  }
 },
 "nbformat": 4,
 "nbformat_minor": 2
}
